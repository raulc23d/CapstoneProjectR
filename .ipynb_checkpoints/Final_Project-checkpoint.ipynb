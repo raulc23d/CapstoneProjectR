{
 "cells": [
  {
   "cell_type": "markdown",
   "id": "f9ffd54c",
   "metadata": {},
   "source": [
    "# AUTOMATED CARS, SAFETY AND EFFICIENCY\n",
    "#### Raul Cortes Vazquez, Analyst\n"
   ]
  },
  {
   "cell_type": "markdown",
   "id": "d2f88c12",
   "metadata": {},
   "source": [
    "\n",
    "## Overview\n",
    "\n",
    "Automated cars are becoming a more prevalent phenomena on modern day cities, however, their potential may also be questioned as to how reliable and safe they are to become a better option than current day human driven cars. The purpose of this project is to evaluate how safe are automated cars and if they can be a viable solution for being used in big cities, as well as how they can be used to improve quality of life by reducing traffic through the use of AI.\n",
    "\n",
    "This project will first demonstrate autonomous car safety and after it will show how AI and cities can improve by being able to interact with the cars traversing through it.\n",
    "\n",
    "### 1. Align on Business Understanding \n",
    "\n",
    "- Evaluate safety\n",
    "- Utilize data to recommend increasing their use\n",
    "- Apply image processing and AI to propose an integral solution\n",
    "        \n",
    "### 2. Data Analysis\n",
    "\n",
    "- Find whether or not humans will crash more often than automated cars\n",
    "- Analyze car accidents datasets\n",
    "- Analyze and process traffic imagery\n",
    "    \n",
    "### 3. Recommendations\n",
    "\n",
    "- Define three recommendations to move forward in the film industry\n",
    "- Use data findings to support recommendations\n",
    "- Identify next steps for Computing Vision appliances between automated cars\n"
   ]
  },
  {
   "cell_type": "markdown",
   "id": "2ab4ae75",
   "metadata": {},
   "source": [
    "## Introduction to the subject"
   ]
  },
  {
   "cell_type": "markdown",
   "id": "b5465bc2",
   "metadata": {},
   "source": [
    "Autonomous cars have been in the vision of several entrepreneurs due to the potential breakthrough and disruption to the transport sector. There is a considerable monetary incentive towards achieving this goal, however, there is a big barrier in the form of machine learning. Automated vehicles must take into consideration the surrounding through which they're driving, the road, human dynamics and unpredictable behavior and trajectory. This has proven to be a big challenge and progress has been made since the arrival of AI which has made processing big chunks of information from a car's sensors and learning easier and cheaper, making it accesible for more people.\n",
    "\n",
    "Even with this, cars are not fully autonomous yet and require human intervention at times and overall supervision. The most autonomous cars are known as ADS (Automated Driving System), while cars that do not have an automated driving system are known as ADAS (Advanced Driver Assistance Systems) because of the systems where the car assists the human with few functionalities but is not involved at all in the driving.\n",
    "\n",
    "This is the data we'll be analyzing."
   ]
  },
  {
   "cell_type": "code",
   "execution_count": null,
   "id": "955d417b",
   "metadata": {},
   "outputs": [],
   "source": [
    "import pandas as pd\n",
    "import numpy as np\n",
    "from matplotlib import pyplot as plt\n",
    "from mpl_toolkits.mplot3d import Axes3D\n",
    "from random import gauss, seed\n",
    "from scipy import stats\n",
    "import seaborn as sns\n",
    "from mpl_toolkits import mplot3d\n",
    "import sklearn.metrics as metrics\n",
    "import statsmodels.api as sm\n",
    "from patsy import dmatrices\n",
    "import statsmodels.api as sm\n",
    "from sklearn.datasets import make_regression\n",
    "from sklearn.linear_model import LinearRegression\n",
    "from sklearn.metrics import mean_squared_error as mse\n",
    "import skimage.io as io\n",
    "#from scipy.ndimage import imread\n",
    "import cv2\n",
    "import os,glob\n",
    "from os import listdir,makedirs\n",
    "from os.path import isfile,join\n",
    "import PIL\n",
    "from keras.models import load_model  # TensorFlow is required for Keras to work\n",
    "import cv2  # Install opencv-python\n",
    "import numpy as np\n",
    "import pandas as pd\n",
    "import numpy as np\n",
    "import os\n",
    "import tensorflow as tf\n",
    "import cv2\n",
    "import imutils\n",
    "from imutils import paths\n",
    "from tensorflow import keras\n",
    "from tensorflow.keras import layers\n",
    "from tensorflow.keras import Input\n",
    "#from tensorflow.keras import Dense, InputLayer, Flatten, \n",
    "from tensorflow.keras.models import Sequential, Model\n",
    "from  matplotlib import pyplot as plt\n",
    "import matplotlib.image as mpimg\n",
    "import cv2\n",
    "\n",
    "%matplotlib inline"
   ]
  },
  {
   "cell_type": "markdown",
   "id": "e9960e11",
   "metadata": {},
   "source": [
    "### Datasets related to car accidents, autonomous and non-autonomous cars"
   ]
  },
  {
   "cell_type": "markdown",
   "id": "1e41566f",
   "metadata": {},
   "source": [
    "These sets of data we'll be working with have the goal to aid in better understanding autonomous cars safety.\n",
    "\n",
    "It reports car crashes during a certain period of time and if they were autonomously driven or not. \n"
   ]
  },
  {
   "cell_type": "code",
   "execution_count": null,
   "id": "d15fb95b",
   "metadata": {},
   "outputs": [],
   "source": [
    "adas_df = pd.read_csv('data/Automated_Driving_Crashes_Dataset/SGO-2021-01_Incident_Reports_ADAS.csv',\n",
    "                 parse_dates=['Report Submission Date'])\n",
    "\n",
    "ads_df = pd.read_csv('data/Automated_Driving_Crashes_Dataset/SGO-2021-01_Incident_Reports_ADS.csv',\n",
    "                 parse_dates=['Report Submission Date'])\n",
    "\n",
    "other_df = pd.read_csv('data/Automated_Driving_Crashes_Dataset/SGO-2021-01_Incident_Reports_OTHER.csv',\n",
    "                 parse_dates=['Report Submission Date'])"
   ]
  },
  {
   "cell_type": "markdown",
   "id": "d93b6225",
   "metadata": {},
   "source": [
    "\n",
    "* ADAS represents not fully autonomous cars\n",
    "* ADS represents autonomously driven cars\n"
   ]
  },
  {
   "cell_type": "markdown",
   "id": "619780de",
   "metadata": {},
   "source": [
    "#### Dataset Cleaning"
   ]
  },
  {
   "cell_type": "markdown",
   "id": "1a1c6aaf",
   "metadata": {},
   "source": [
    "Cleaning the dataset for ADAS"
   ]
  },
  {
   "cell_type": "code",
   "execution_count": null,
   "id": "d9f2dd59",
   "metadata": {
    "scrolled": false
   },
   "outputs": [],
   "source": [
    "# ADAS\n",
    "\n",
    "adas_df = adas_df[['Report ID', 'VIN', 'Make', 'Report Submission Date', 'Model', 'Model Year', 'Mileage', 'State']]\n",
    "i = adas_df[(adas_df.VIN.isna())].index\n",
    "adas_df = adas_df.drop(i)\n",
    "i = adas_df[(adas_df.Mileage.isna())].index\n",
    "adas_df = adas_df.drop(i)\n",
    "adas_df['Level_of_Driving_Automation'] = 'ADAS'\n",
    "\n",
    "# RENAMING COLUMNS FOR NAMES WITHOUT SPACES FOR COMPATIBILITY ISSUES\n",
    "adas_df['Date'] = adas_df['Report Submission Date']\n",
    "adas_df['Report_ID'] = adas_df['Report ID']\n",
    "adas_df['Model_Year'] = adas_df['Model Year']\n",
    "\n",
    "adas_df = adas_df[['Report_ID', 'VIN', 'Date', 'Make', 'Model', 'Model_Year', 'Mileage', 'State', 'Level_of_Driving_Automation']]\n",
    "adas_df"
   ]
  },
  {
   "cell_type": "markdown",
   "id": "e4decaae",
   "metadata": {},
   "source": [
    "Cleaning the dataset for ADS"
   ]
  },
  {
   "cell_type": "code",
   "execution_count": null,
   "id": "04354f43",
   "metadata": {},
   "outputs": [],
   "source": [
    "# ADS\n",
    "\n",
    "ads_df = ads_df[['Report ID', 'VIN', 'Make', 'Report Submission Date', 'Model', 'Model Year', 'Mileage', 'State']]\n",
    "i = ads_df[(ads_df.VIN.isna())].index\n",
    "ads_df = ads_df.drop(i)\n",
    "i = ads_df[(ads_df.Mileage.isna())].index\n",
    "ads_df = ads_df.drop(i)\n",
    "ads_df['Level_of_Driving_Automation'] = 'ADS'\n",
    "\n",
    "#RENAMING COLUMNS FOR NAMES WITHOUT SPACES FOR COMPATIBILITY ISSUES\n",
    "ads_df['Date'] = ads_df['Report Submission Date']\n",
    "ads_df['Report_ID'] = ads_df['Report ID']\n",
    "ads_df['Model_Year'] = ads_df['Model Year']\n",
    "\n",
    "i = ads_df[(ads_df.Model_Year.isna())].index\n",
    "ads_df = ads_df.drop(i)\n",
    "ads_df.drop(['Report Submission Date', 'Report ID', 'Model Year'], axis=1)\n",
    "\n",
    "ads_df = ads_df[['Report_ID', 'VIN', 'Date', 'Make', 'Model', 'Model_Year', 'Mileage', 'State', 'Level_of_Driving_Automation']]\n",
    "ads_df"
   ]
  },
  {
   "cell_type": "markdown",
   "id": "8f5898de",
   "metadata": {},
   "source": [
    "\n",
    "Cleaning the dataset for other. \n",
    "\n",
    "Other represents non-autonomously driven cars that do not have an ADAS system (which most cars have nowadays). These cars are completely human driven and therefore fall on the segment of non-autonous cars.\n"
   ]
  },
  {
   "cell_type": "code",
   "execution_count": null,
   "id": "5683ffdb",
   "metadata": {
    "scrolled": false
   },
   "outputs": [],
   "source": [
    "#OTHER\n",
    "\n",
    "other_df = other_df[['Report ID', 'VIN', 'Make', 'Report Submission Date', 'Model', 'Model Year', 'Mileage', 'State', 'Report Type']]\n",
    "other_df['Report_Type'] = other_df['Report Type']\n",
    "other_df = other_df[other_df['Report_Type'] != 'Monthly - No Incidents']\n",
    "\n",
    "i = other_df[(other_df.VIN.isna())].index\n",
    "other_df = other_df.drop(i)\n",
    "i = other_df[(other_df.Mileage.isna())].index\n",
    "other_df = other_df.drop(i)\n",
    "other_df['State'] = other_df['State'].fillna('Unregistered')\n",
    "other_df['Level_of_Driving_Automation'] = 'Other'\n",
    "\n",
    "# RENAMING COLUMNS FOR NAMES WITHOUT SPACES FOR COMPATIBILITY ISSUES\n",
    "other_df['Date'] = other_df['Report Submission Date']\n",
    "other_df['Report_ID'] = other_df['Report ID']\n",
    "\n",
    "other_df['Model_Year'] = other_df['Model Year']\n",
    "\n",
    "other_df = other_df[['Report_ID', 'VIN', 'Date', 'Make', 'Model', 'Model_Year', 'Mileage', 'State', 'Level_of_Driving_Automation']]\n",
    "other_df"
   ]
  },
  {
   "cell_type": "code",
   "execution_count": null,
   "id": "8220a22a",
   "metadata": {},
   "outputs": [],
   "source": [
    "# Plotting data\n",
    "\n",
    "x1 = len(adas_df)\n",
    "x2 = len(adas_df)\n",
    "x3 = len(other_df)\n",
    "\n",
    "x = [x1, x2, x3]\n",
    "y = [\"ADAS\", \"ADS\", \"OTHER\"]\n",
    "c = [\"b\", \"r\"]\n",
    "\n",
    "plt.pie(x, labels = y, radius = 1, autopct = \"%0.1f%%\", shadow = True, labeldistance = 1.1, startangle = 0, textprops = {\"fontsize\": 15})\n",
    "plt.show()\n"
   ]
  },
  {
   "cell_type": "markdown",
   "id": "1a58cb9d",
   "metadata": {},
   "source": [
    "### Comparing Statistical Data"
   ]
  },
  {
   "cell_type": "markdown",
   "id": "73940980",
   "metadata": {},
   "source": [
    "We will be analyzing our data to answer the questions we have set up and prove whether or not car accidents are related to a car being autonomous (ADS) or not."
   ]
  },
  {
   "cell_type": "markdown",
   "id": "7b1736f9",
   "metadata": {},
   "source": [
    "#### Covariance"
   ]
  },
  {
   "cell_type": "markdown",
   "id": "0cbe54be",
   "metadata": {},
   "source": [
    "x = car accidents (yearly)\n",
    "\n",
    "y1 = autonomous driven car accidents over a year\n",
    "\n",
    "y2 = human driven car accidents over a year\n",
    "\n",
    "The data we are working with comprises the years 2021 and 2022. Taking into consideration the available data, the connection to be made between the cause of accident is whether the mileage is connected to there being an accident or not, reflecting on the possible cause of accident being due to a likely fault from the vehicle or further suggesting the human factor to be a key player in car accidents."
   ]
  },
  {
   "attachments": {
    "Captura%20de%20pantalla%202023-04-06%20140610.png": {
     "image/png": "[encoded data removed]"
    }
   },
   "cell_type": "markdown",
   "id": "72f4b297",
   "metadata": {},
   "source": [
    "![Captura%20de%20pantalla%202023-04-06%20140610.png](attachment:Captura%20de%20pantalla%202023-04-06%20140610.png)"
   ]
  },
  {
   "cell_type": "markdown",
   "id": "db49c880",
   "metadata": {},
   "source": [
    "Is there a relation between how old was the car involved in a car accident or not?\n",
    "- A car is considered to be old after going past the 100,000 mileage mark."
   ]
  },
  {
   "cell_type": "code",
   "execution_count": null,
   "id": "dac9d253",
   "metadata": {
    "scrolled": true
   },
   "outputs": [],
   "source": [
    "# TOTAL ACCIDENTS\n",
    "\n",
    "# ADAS\n",
    "#FIRST YEAR\n",
    "y1_1a = len(adas_df.loc[(adas_df['Date'] >= '2021-01-01')\n",
    "                     & (adas_df['Date'] < '2021-02-01')])\n",
    "y2_1a = len(adas_df.loc[(adas_df['Date'] >= '2021-02-01')\n",
    "                     & (adas_df['Date'] < '2021-03-01')])\n",
    "y3_1a = len(adas_df.loc[(adas_df['Date'] >= '2021-03-01')\n",
    "                     & (adas_df['Date'] < '2021-04-01')])\n",
    "y4_1a = len(adas_df.loc[(adas_df['Date'] >= '2021-04-01')\n",
    "                     & (adas_df['Date'] < '2021-05-01')])\n",
    "y5_1a = len(adas_df.loc[(adas_df['Date'] >= '2021-05-01')\n",
    "                     & (adas_df['Date'] < '2021-06-01')])\n",
    "y6_1a = len(adas_df.loc[(adas_df['Date'] >= '2021-06-01')\n",
    "                     & (adas_df['Date'] < '2021-07-01')])\n",
    "y7_1a = len(adas_df.loc[(adas_df['Date'] >= '2021-07-01')\n",
    "                     & (adas_df['Date'] < '2021-08-01')])\n",
    "y8_1a = len(adas_df.loc[(adas_df['Date'] >= '2021-08-01')\n",
    "                     & (adas_df['Date'] < '2021-09-01')])\n",
    "y9_1a = len(adas_df.loc[(adas_df['Date'] >= '2021-09-01')\n",
    "                     & (adas_df['Date'] < '2021-10-01')])\n",
    "y10_1a = len(adas_df.loc[(adas_df['Date'] >= '2021-10-01')\n",
    "                     & (adas_df['Date'] < '2021-11-01')])\n",
    "y11_1a = len(adas_df.loc[(adas_df['Date'] >= '2021-11-01')\n",
    "                     & (adas_df['Date'] < '2021-12-01')])\n",
    "y12_1a = len(adas_df.loc[(adas_df['Date'] >= '2021-12-01')\n",
    "                     & (adas_df['Date'] < '2022-01-01')])\n",
    "\n",
    "#SECOND YEAR\n",
    "y1_2a = len(adas_df.loc[(adas_df['Date'] >= '2021-01-01')\n",
    "                     & (adas_df['Date'] < '2022-02-01')])\n",
    "y2_2a = len(adas_df.loc[(adas_df['Date'] >= '2022-02-01')\n",
    "                     & (adas_df['Date'] < '2022-03-01')])\n",
    "y3_2a = len(adas_df.loc[(adas_df['Date'] >= '2022-03-01')\n",
    "                     & (adas_df['Date'] < '2022-04-01')])\n",
    "y4_2a = len(adas_df.loc[(adas_df['Date'] >= '2022-04-01')\n",
    "                     & (adas_df['Date'] < '2022-05-01')])\n",
    "y5_2a = len(adas_df.loc[(adas_df['Date'] >= '2022-05-01')\n",
    "                     & (adas_df['Date'] < '2022-06-01')])\n",
    "y6_2a = len(adas_df.loc[(adas_df['Date'] >= '2022-06-01')\n",
    "                     & (adas_df['Date'] < '2022-07-01')])\n",
    "y7_2a = len(adas_df.loc[(adas_df['Date'] >= '2022-07-01')\n",
    "                     & (adas_df['Date'] < '2022-08-01')])\n",
    "y8_2a = len(adas_df.loc[(adas_df['Date'] >= '2022-08-01')\n",
    "                     & (adas_df['Date'] < '2022-09-01')])\n",
    "y9_2a = len(adas_df.loc[(adas_df['Date'] >= '2022-09-01')\n",
    "                     & (adas_df['Date'] < '2022-10-01')])\n",
    "y10_2a = len(adas_df.loc[(adas_df['Date'] >= '2022-10-01')\n",
    "                     & (adas_df['Date'] < '2022-11-01')])\n",
    "y11_2a = len(adas_df.loc[(adas_df['Date'] >= '2022-11-01')\n",
    "                     & (adas_df['Date'] < '2022-12-01')])\n",
    "y12_2a = len(adas_df.loc[(adas_df['Date'] >= '2022-12-01')\n",
    "                     & (adas_df['Date'] < '2023-01-01')])\n",
    "\n",
    "# OTHER\n",
    "#FIRST YEAR\n",
    "y1_1b = len(other_df.loc[(other_df['Date'] >= '2021-01-01')\n",
    "                     & (other_df['Date'] < '2021-02-01')])\n",
    "y2_1b = len(other_df.loc[(other_df['Date'] >= '2021-02-01')\n",
    "                     & (other_df['Date'] < '2021-03-01')])\n",
    "y3_1b = len(other_df.loc[(other_df['Date'] >= '2021-03-01')\n",
    "                     & (other_df['Date'] < '2021-04-01')])\n",
    "y4_1b = len(other_df.loc[(other_df['Date'] >= '2021-04-01')\n",
    "                     & (other_df['Date'] < '2021-05-01')])\n",
    "y5_1b = len(other_df.loc[(other_df['Date'] >= '2021-05-01')\n",
    "                     & (other_df['Date'] < '2021-06-01')])\n",
    "y6_1b = len(other_df.loc[(other_df['Date'] >= '2021-06-01')\n",
    "                     & (other_df['Date'] < '2021-07-01')])\n",
    "y7_1b = len(other_df.loc[(other_df['Date'] >= '2021-07-01')\n",
    "                     & (other_df['Date'] < '2021-08-01')])\n",
    "y8_1b = len(other_df.loc[(other_df['Date'] >= '2021-08-01')\n",
    "                     & (other_df['Date'] < '2021-09-01')])\n",
    "y9_1b = len(other_df.loc[(other_df['Date'] >= '2021-09-01')\n",
    "                     & (other_df['Date'] < '2021-10-01')])\n",
    "y10_1b = len(other_df.loc[(other_df['Date'] >= '2021-10-01')\n",
    "                     & (adas_df['Date'] < '2021-11-01')])\n",
    "y11_1b = len(other_df.loc[(other_df['Date'] >= '2021-11-01')\n",
    "                     & (other_df['Date'] < '2021-12-01')])\n",
    "y12_1b = len(other_df.loc[(other_df['Date'] >= '2021-12-01')\n",
    "                     & (other_df['Date'] < '2022-01-01')])\n",
    "\n",
    "#SECOND YEAR\n",
    "y1_2b = len(other_df.loc[(other_df['Date'] >= '2021-01-01')\n",
    "                     & (other_df['Date'] < '2022-02-01')])\n",
    "y2_2b = len(other_df.loc[(other_df['Date'] >= '2022-02-01')\n",
    "                     & (other_df['Date'] < '2022-03-01')])\n",
    "y3_2b = len(other_df.loc[(other_df['Date'] >= '2022-03-01')\n",
    "                     & (other_df['Date'] < '2022-04-01')])\n",
    "y4_2b = len(other_df.loc[(other_df['Date'] >= '2022-04-01')\n",
    "                     & (other_df['Date'] < '2022-05-01')])\n",
    "y5_2b = len(other_df.loc[(other_df['Date'] >= '2022-05-01')\n",
    "                     & (other_df['Date'] < '2022-06-01')])\n",
    "y6_2b = len(other_df.loc[(other_df['Date'] >= '2022-06-01')\n",
    "                     & (other_df['Date'] < '2022-07-01')])\n",
    "y7_2b = len(other_df.loc[(other_df['Date'] >= '2022-07-01')\n",
    "                     & (other_df['Date'] < '2022-08-01')])\n",
    "y8_2b = len(other_df.loc[(other_df['Date'] >= '2022-08-01')\n",
    "                     & (other_df['Date'] < '2022-09-01')])\n",
    "y9_2b = len(other_df.loc[(other_df['Date'] >= '2022-09-01')\n",
    "                     & (other_df['Date'] < '2022-10-01')])\n",
    "y10_2b = len(other_df.loc[(other_df['Date'] >= '2022-10-01')\n",
    "                     & (other_df['Date'] < '2022-11-01')])\n",
    "y11_2b = len(other_df.loc[(other_df['Date'] >= '2022-11-01')\n",
    "                     & (other_df['Date'] < '2022-12-01')])\n",
    "y12_2b = len(other_df.loc[(other_df['Date'] >= '2022-12-01')\n",
    "                     & (other_df['Date'] < '2023-01-01')])\n",
    "\n",
    "y1_1 = y1_1a + y1_1b\n",
    "y2_1 = y2_1a + y2_1b\n",
    "y3_1 = y3_1a + y3_1b\n",
    "y4_1 = y4_1a + y4_1b\n",
    "y5_1 = y5_1a + y5_1b\n",
    "y6_1 = y6_1a + y6_1b\n",
    "y7_1 = y7_1a + y7_1b\n",
    "y8_1 = y8_1a + y8_1b\n",
    "y9_1 = y9_1a + y9_1b\n",
    "y10_1 = y10_1a + y10_1b\n",
    "y11_1 = y11_1a + y11_1b\n",
    "y12_1 = y12_1a + y12_1b\n",
    "\n",
    "y1_2 = y1_2a + y1_2b\n",
    "y2_2 = y2_2a + y2_2b\n",
    "y3_2 = y3_2a + y3_2b\n",
    "y4_2 = y4_2a + y4_2b\n",
    "y5_2 = y5_2a + y5_2b\n",
    "y6_2 = y6_2a + y6_2b\n",
    "y7_2 = y7_2a + y7_2b\n",
    "y8_2 = y8_2a + y8_2b\n",
    "y9_2 = y9_2a + y9_2b\n",
    "y10_2 = y10_2a + y10_2b\n",
    "y11_2 = y11_2a + y11_2b\n",
    "y12_2 = y12_2a + y12_2b\n",
    "\n",
    "# CAR MODELS\n",
    "\n",
    "# ADAS \n",
    "#FIRST YEAR\n",
    "x1_1a = len(adas_df[(adas_df['Mileage'] >= 100000) & (adas_df['Date'] >= '2021-01-01') & (adas_df['Date'] < '2021-02-01')])\n",
    "x2_1a = len(adas_df[(adas_df['Mileage'] >= 100000) & (adas_df['Date'] >= '2021-02-01') & (adas_df['Date'] < '2021-03-01')])\n",
    "x3_1a = len(adas_df[(adas_df['Mileage'] >= 100000) & (adas_df['Date'] >= '2021-03-01') & (adas_df['Date'] < '2021-04-01')])\n",
    "x4_1a = len(adas_df[(adas_df['Mileage'] >= 100000) & (adas_df['Date'] >= '2021-04-01') & (adas_df['Date'] < '2021-05-01')])\n",
    "x5_1a = len(adas_df[(adas_df['Mileage'] >= 100000) & (adas_df['Date'] >= '2021-05-01') & (adas_df['Date'] < '2021-06-01')])\n",
    "x6_1a = len(adas_df[(adas_df['Mileage'] >= 100000) & (adas_df['Date'] >= '2021-06-01') & (adas_df['Date'] < '2021-07-01')])\n",
    "x7_1a = len(adas_df[(adas_df['Mileage'] >= 100000) & (adas_df['Date'] >= '2021-07-01') & (adas_df['Date'] < '2021-08-01')])\n",
    "x8_1a = len(adas_df[(adas_df['Mileage'] >= 100000) & (adas_df['Date'] >= '2021-08-01') & (adas_df['Date'] < '2021-09-01')])\n",
    "x9_1a = len(adas_df[(adas_df['Mileage'] >= 100000) & (adas_df['Date'] >= '2021-09-01') & (adas_df['Date'] < '2021-10-01')])\n",
    "x10_1a = len(adas_df[(adas_df['Mileage'] >= 100000) & (adas_df['Date'] >= '2021-10-01') & (adas_df['Date'] < '2021-11-01')])\n",
    "x11_1a = len(adas_df[(adas_df['Mileage'] >= 100000) & (adas_df['Date'] >= '2021-11-01') & (adas_df['Date'] < '2021-12-01')])\n",
    "x12_1a = len(adas_df[(adas_df['Mileage'] >= 100000) & (adas_df['Date'] >= '2021-12-01') & (adas_df['Date'] < '2022-01-01')])\n",
    "#SECOND YEAR\n",
    "x1_2a = len(adas_df[(adas_df['Mileage'] >= 100000) & (adas_df['Date'] >= '2022-01-01') & (adas_df['Date'] < '2022-02-01')])\n",
    "x2_2a = len(adas_df[(adas_df['Mileage'] >= 100000) & (adas_df['Date'] >= '2022-02-01') & (adas_df['Date'] < '2022-03-01')])\n",
    "x3_2a = len(adas_df[(adas_df['Mileage'] >= 100000) & (adas_df['Date'] >= '2022-03-01') & (adas_df['Date'] < '2022-04-01')])\n",
    "x4_2a = len(adas_df[(adas_df['Mileage'] >= 100000) & (adas_df['Date'] >= '2022-04-01') & (adas_df['Date'] < '2022-05-01')])\n",
    "x5_2a = len(adas_df[(adas_df['Mileage'] >= 100000) & (adas_df['Date'] >= '2022-05-01') & (adas_df['Date'] < '2022-06-01')])\n",
    "x6_2a = len(adas_df[(adas_df['Mileage'] >= 100000) & (adas_df['Date'] >= '2022-06-01') & (adas_df['Date'] < '2022-07-01')])\n",
    "x7_2a = len(adas_df[(adas_df['Mileage'] >= 100000) & (adas_df['Date'] >= '2022-07-01') & (adas_df['Date'] < '2022-08-01')])\n",
    "x8_2a = len(adas_df[(adas_df['Mileage'] >= 100000) & (adas_df['Date'] >= '2022-08-01') & (adas_df['Date'] < '2022-09-01')])\n",
    "x9_2a = len(adas_df[(adas_df['Mileage'] >= 100000) & (adas_df['Date'] >= '2022-09-01') & (adas_df['Date'] < '2022-10-01')])\n",
    "x10_2a = len(adas_df[(adas_df['Mileage'] >= 100000) & (adas_df['Date'] >= '2022-10-01') & (adas_df['Date'] < '2022-11-01')])\n",
    "x11_2a = len(adas_df[(adas_df['Mileage'] >= 100000) & (adas_df['Date'] >= '2022-11-01') & (adas_df['Date'] < '2022-12-01')])\n",
    "x12_2a = len(adas_df[(adas_df['Mileage'] >= 100000) & (adas_df['Date'] >= '2022-12-01') & (adas_df['Date'] < '2023-01-01')])\n",
    "\n",
    "# OTHER\n",
    "#FIRST YEAR\n",
    "x1_1b = len(other_df[(other_df['Mileage'] >= 100000) & (other_df['Date'] >= '2021-01-01') & (other_df['Date'] < '2021-02-01')])\n",
    "x2_1b = len(other_df[(other_df['Mileage'] >= 100000) & (other_df['Date'] >= '2021-02-01') & (other_df['Date'] < '2021-03-01')])\n",
    "x3_1b = len(other_df[(other_df['Mileage'] >= 100000) & (other_df['Date'] >= '2021-03-01') & (other_df['Date'] < '2021-04-01')])\n",
    "x4_1b = len(other_df[(other_df['Mileage'] >= 100000) & (other_df['Date'] >= '2021-04-01') & (other_df['Date'] < '2021-05-01')])\n",
    "x5_1b = len(other_df[(other_df['Mileage'] >= 100000) & (other_df['Date'] >= '2021-05-01') & (other_df['Date'] < '2021-06-01')])\n",
    "x6_1b = len(other_df[(other_df['Mileage'] >= 100000) & (other_df['Date'] >= '2021-06-01') & (other_df['Date'] < '2021-07-01')])\n",
    "x7_1b = len(other_df[(other_df['Mileage'] >= 100000) & (other_df['Date'] >= '2021-07-01') & (other_df['Date'] < '2021-08-01')])\n",
    "x8_1b = len(other_df[(other_df['Mileage'] >= 100000) & (other_df['Date'] >= '2021-08-01') & (other_df['Date'] < '2021-09-01')])\n",
    "x9_1b = len(other_df[(other_df['Mileage'] >= 100000) & (other_df['Date'] >= '2021-09-01') & (other_df['Date'] < '2021-10-01')])\n",
    "x10_1b = len(other_df[(other_df['Mileage'] >= 100000) & (other_df['Date'] >= '2021-10-01') & (other_df['Date'] < '2021-11-01')])\n",
    "x11_1b = len(other_df[(other_df['Mileage'] >= 100000) & (other_df['Date'] >= '2021-11-01') & (other_df['Date'] < '2021-12-01')])\n",
    "x12_1b = len(other_df[(other_df['Mileage'] >= 100000) & (other_df['Date'] >= '2021-12-01') & (other_df['Date'] < '2022-01-01')])\n",
    "#SECOND YEAR\n",
    "x1_2b = len(other_df[(adas_df['Mileage'] >= 100000) & (other_df['Date'] >= '2022-01-01') & (other_df['Date'] < '2022-02-01')])\n",
    "x2_2b = len(other_df[(adas_df['Mileage'] >= 100000) & (other_df['Date'] >= '2022-02-01') & (other_df['Date'] < '2022-03-01')])\n",
    "x3_2b = len(other_df[(adas_df['Mileage'] >= 100000) & (other_df['Date'] >= '2022-03-01') & (other_df['Date'] < '2022-04-01')])\n",
    "x4_2b = len(other_df[(adas_df['Mileage'] >= 100000) & (other_df['Date'] >= '2022-04-01') & (other_df['Date'] < '2022-05-01')])\n",
    "x5_2b = len(other_df[(adas_df['Mileage'] >= 100000) & (other_df['Date'] >= '2022-05-01') & (other_df['Date'] < '2022-06-01')])\n",
    "x6_2b = len(other_df[(adas_df['Mileage'] >= 100000) & (other_df['Date'] >= '2022-06-01') & (other_df['Date'] < '2022-07-01')])\n",
    "x7_2b = len(other_df[(adas_df['Mileage'] >= 100000) & (other_df['Date'] >= '2022-07-01') & (other_df['Date'] < '2022-08-01')])\n",
    "x8_2b = len(other_df[(adas_df['Mileage'] >= 100000) & (other_df['Date'] >= '2022-08-01') & (other_df['Date'] < '2022-09-01')])\n",
    "x9_2b = len(other_df[(adas_df['Mileage'] >= 100000) & (other_df['Date'] >= '2022-09-01') & (other_df['Date'] < '2022-10-01')])\n",
    "x10_2b = len(other_df[(adas_df['Mileage'] >= 100000) & (other_df['Date'] >= '2022-10-01') & (other_df['Date'] < '2022-11-01')])\n",
    "x11_2b = len(other_df[(adas_df['Mileage'] >= 100000) & (other_df['Date'] >= '2022-11-01') & (other_df['Date'] < '2022-12-01')])\n",
    "x12_2b = len(other_df[(adas_df['Mileage'] >= 100000) & (other_df['Date'] >= '2022-12-01') & (other_df['Date'] < '2023-01-01')])\n",
    "\n",
    "x1_1 = x1_1a + x1_1b\n",
    "x2_1 = x2_1a + x2_1b\n",
    "x3_1 = x3_1a + x3_1b\n",
    "x4_1 = x4_1a + x4_1b\n",
    "x5_1 = x5_1a + x5_1b\n",
    "x6_1 = x6_1a + x6_1b\n",
    "x7_1 = x7_1a + x7_1b\n",
    "x8_1 = x8_1a + x8_1b\n",
    "x9_1 = x9_1a + x9_1b\n",
    "x10_1 = x10_1a + x10_1b\n",
    "x11_1 = x11_1a + x11_1b\n",
    "x12_1 = x12_1a + x12_1b\n",
    "\n",
    "x1_2 = x1_2a + x1_2b\n",
    "x2_2 = x2_2a + x2_2b\n",
    "x3_2 = x3_2a + x3_2b\n",
    "x4_2 = x4_2a + x4_2b\n",
    "x5_2 = x5_2a + x5_2b\n",
    "x6_2 = x6_2a + x6_2b\n",
    "x7_2 = x7_2a + x7_2b\n",
    "x8_2 = x8_2a + x8_2b\n",
    "x9_2 = x9_2a + x9_2b\n",
    "x10_2 = x10_2a + x10_2b\n",
    "x11_2 = x11_2a + x11_2b\n",
    "x12_2 = x12_2a + x12_2b\n",
    "\n",
    "X = [x1_1, x2_1, x3_1, x4_1, x5_1, x6_1, x7_1, x8_1, x9_1, x10_1, x11_1, x12_1, x1_2, x2_2, x3_2, x4_2, x5_2, x6_2, x7_2, x8_2, x9_2, x10_2, x11_2, x12_2]\n",
    "Y = [y1_1, y2_1, y3_1, y4_1, y5_1, y6_1, y7_1, y8_1, y9_1, y10_1, y11_1, y12_1, y1_2, y2_2, y3_2, y4_2, y5_2, y6_2, y7_2, y8_2, y9_2, y10_2, y11_2, y12_2]"
   ]
  },
  {
   "cell_type": "markdown",
   "id": "6beecd57",
   "metadata": {},
   "source": [
    "### Correlation"
   ]
  },
  {
   "cell_type": "code",
   "execution_count": null,
   "id": "d6929d51",
   "metadata": {
    "scrolled": true
   },
   "outputs": [],
   "source": [
    "# Covariance using NumPy:\n",
    "\n",
    "np.cov(X, Y, ddof=0)[0, 1]"
   ]
  },
  {
   "cell_type": "markdown",
   "id": "509619b1",
   "metadata": {},
   "source": [
    "To understand the data we must standarize using correlation."
   ]
  },
  {
   "cell_type": "code",
   "execution_count": null,
   "id": "fde9346e",
   "metadata": {},
   "outputs": [],
   "source": [
    "np.corrcoef(X, Y)"
   ]
  },
  {
   "cell_type": "markdown",
   "id": "eeaf765b",
   "metadata": {},
   "source": [
    "Is there a relation?"
   ]
  },
  {
   "cell_type": "code",
   "execution_count": null,
   "id": "f073c2c3",
   "metadata": {},
   "outputs": [],
   "source": [
    "np.corrcoef(X, Y)[0, 1] == (np.cov(X, Y, ddof=0) / (np.std(X) * np.std(Y)))[0, 1]"
   ]
  },
  {
   "cell_type": "code",
   "execution_count": null,
   "id": "49f3c7aa",
   "metadata": {},
   "outputs": [],
   "source": [
    "df = adas_df\n",
    "#pd.concat([adas_df, other_df])\n",
    "df1 = df[(df['Date'] >= '2021-01-01') & (df['Date'] < '2022-01-01')]\n",
    "#df1 = df1.insert(8, 'Date', '2021')\n",
    "df2 = df[(df['Date'] >= '2022-01-01') & (df['Date'] < '2023-01-01')]\n",
    "df1"
   ]
  },
  {
   "cell_type": "code",
   "execution_count": null,
   "id": "51c0f67d",
   "metadata": {},
   "outputs": [],
   "source": [
    "df1 = df1.drop(['Date'], axis=1)\n",
    "df1['Date'] = '2021'\n",
    "df1[\"Date\"] = pd.to_numeric(df1[\"Date\"])\n",
    "df1"
   ]
  },
  {
   "cell_type": "markdown",
   "id": "b294b267",
   "metadata": {},
   "source": [
    "### Convolutional Neural Network"
   ]
  },
  {
   "cell_type": "markdown",
   "id": "7c88901e",
   "metadata": {},
   "source": [
    "Here we will load images from our dataset to be processed by our models down below. This images contain photographies from traffic jams, car traffic, highways and other transit footage that we seek to process."
   ]
  },
  {
   "cell_type": "markdown",
   "id": "9389cabf",
   "metadata": {},
   "source": [
    "Additionally we will be filtering out the different pixels in each channel and z-axis."
   ]
  },
  {
   "cell_type": "code",
   "execution_count": null,
   "id": "618281ee",
   "metadata": {},
   "outputs": [],
   "source": [
    "imagePaths = list(paths.list_images(r\"C:\\Users\\rcortesvazquez\\Documents\\Academy\\AI\\FP\\CapstoneProjectR\\data\\Traffic congestion Dataset\\obj\\sample_img\"))\n",
    "imagePaths\n",
    "\n",
    "for imagePath in imagePaths:\n",
    "    \n",
    "    image = cv2.imread(imagePath)\n",
    "    print(f'There are {image.shape[0]} pixels in the vertical channel')\n",
    "    print(f'There are {image.shape[1]} pixels in the horizontal channel')\n",
    "    print(f'There are {image.shape[2]} pixels in the \"z-axis\"')\n",
    "    \n",
    "    cv2.imshow(\"Frame\", image)\n",
    "    cv2.waitKey()\n",
    "cv2.destroyAllWindows()\n",
    "plt.imshow(image)"
   ]
  },
  {
   "cell_type": "markdown",
   "id": "f21b612e",
   "metadata": {},
   "source": [
    "I built and trained a model using the Teachable machine by Google. The model was trained with 37 different images from cars in transit and during traffic jams and half that same number with empty roads, avenues and streets. This will enable our model to determine when cars are present at a given moment in what could be a traffic camera."
   ]
  },
  {
   "cell_type": "code",
   "execution_count": null,
   "id": "227967bf",
   "metadata": {},
   "outputs": [],
   "source": [
    "# Disabling scientific notation for clarity\n",
    "np.set_printoptions(suppress=True)\n",
    "\n",
    "# Loading the model\n",
    "model = load_model(r\"C:\\Users\\rcortesvazquez\\Documents\\Academy\\AI\\FP\\CapstoneProjectR\\data\\Traffic congestion Dataset\\mod\\keras_model.h5\", compile=False)\n",
    "\n",
    "# Loading the labels, in this case it's just 2. Positive feedback and negative feedback.\n",
    "class_names = open(r\"C:\\Users\\rcortesvazquez\\Documents\\Academy\\AI\\FP\\CapstoneProjectR\\data\\Traffic congestion Dataset\\mod\\labels.txt\", \"r\").readlines()\n",
    "\n",
    "# Grabbing the images.\n",
    "for imagePath in imagePaths:\n",
    "    image = cv2.imread(imagePath)\n",
    "        \n",
    "    # Resizing the image\n",
    "    image = cv2.resize(image, (224, 224), interpolation=cv2.INTER_AREA)\n",
    "        \n",
    "    # Showing the image that's being analyzed\n",
    "    cv2.imshow(\"Image\", image)\n",
    "        \n",
    "    # Making the image a numpy array and reshaping it to the models input shape\n",
    "    image = np.asarray(image, dtype=np.float32).reshape(1, 224, 224, 3)\n",
    "        \n",
    "    # Normalizing the image array\n",
    "    image = (image / 127.5) - 1\n",
    "        \n",
    "    # Predicts the model\n",
    "    prediction = model.predict(image)\n",
    "    index = np.argmax(prediction)\n",
    "    class_name = class_names[index]\n",
    "    confidence_score = prediction[0][index]\n",
    "        \n",
    "    # Printing both the prediction and confidence score\n",
    "    print(\"Class:\", class_name[2:], end=\"\")\n",
    "    print(\"Confidence Score:\", str(np.round(confidence_score * 100))[:-2], \"%\")\n",
    "    \n",
    "    cv2.waitKey()\n",
    "\n",
    "cv2.destroyAllWindows()"
   ]
  },
  {
   "cell_type": "markdown",
   "id": "666db08b",
   "metadata": {},
   "source": [
    "The proposal I seek to make is to use traffic cameras to make traffic more efficient by connecting them with ADS. Car to car communication would be the best and quickest solution to autononous cars, however, regulations, connectivity and wireless communication still not being well protected from ciber-security risks, makes it a non viable solution. Nonetheless, communicating traffic light cameras and stations in every red light with cars could be an easier and more functional solution for the current situation."
   ]
  },
  {
   "cell_type": "markdown",
   "id": "6543911b",
   "metadata": {},
   "source": [
    "Object Tracking and Object Detection -> 2 Different things.\n",
    "\n",
    "Object Tracking is the detection and subsequent following of an object moving in video footage, whereas Object Detection is the detection of an object or set of objects in an image.\n"
   ]
  },
  {
   "cell_type": "markdown",
   "id": "c495c7b2",
   "metadata": {},
   "source": [
    "Therefore, I consider a camera taking a pictures during the red lights more cost-effective than a camera gathering live footage since for the purpose of this project we seek to control traffic movement in red lights to make it as more cars can move during a green light by simply connecting these ADS vehicles and synchronizing them so as to move altoghether as one with almost no delay when a red light turns green. This way the camera being set up over the red light can activate only when the light turns red."
   ]
  },
  {
   "cell_type": "code",
   "execution_count": null,
   "id": "fabfb4f7",
   "metadata": {
    "scrolled": false
   },
   "outputs": [],
   "source": [
    "# Here we are loading a text file with labels for a second model to work with when detecting data.\n",
    "\n",
    "config_file = r\"C:\\Users\\rcortesvazquez\\Documents\\Academy\\AI\\FP\\CapstoneProjectR\\data\\Traffic congestion Dataset\\obj\\ssd_mobilenet_v3_large_coco_2020_01_14.pbtxt\"\n",
    "frozen_model = r\"C:\\Users\\rcortesvazquez\\Documents\\Academy\\AI\\FP\\CapstoneProjectR\\data\\Traffic congestion Dataset\\obj\\frozen_inference_graph.pb\"\n",
    "labelfile_name = r\"C:\\Users\\rcortesvazquez\\Documents\\Academy\\AI\\FP\\CapstoneProjectR\\data\\Traffic congestion Dataset\\obj\\labels.txt\"\n",
    "model = cv2.dnn_DetectionModel(frozen_model, config_file)\n",
    "\n",
    "classLabels = []\n",
    "\n",
    "with open(labelfile_name, 'r') as fpt:\n",
    "    \n",
    "    classLabels = fpt.read().rstrip('\\n').split('\\n')\n",
    "    \n",
    "print(classLabels)\n"
   ]
  },
  {
   "cell_type": "markdown",
   "id": "4f794627",
   "metadata": {},
   "source": [
    "This model will now put a box around the individual cars and other vehicles it detects during traffic imagery. It also prints the index number corresponding number to each object from it's labelling file."
   ]
  },
  {
   "cell_type": "code",
   "execution_count": 16,
   "id": "dddbbd57",
   "metadata": {},
   "outputs": [
    {
     "name": "stdout",
     "output_type": "stream",
     "text": [
      "[3 6]\n",
      "[3 3 3 6]\n",
      "[3 6 3 3 3]\n",
      "[6 3 3 3]\n",
      "[3 3]\n"
     ]
    }
   ],
   "source": [
    "model.setInputSize(320,320)\n",
    "model.setInputScale(1.0/127.5)\n",
    "model.setInputMean((127.5,127,5,127.5))\n",
    "model.setInputSwapRB(True)\n",
    "\n",
    "font_scale = 3\n",
    "font = cv2.FONT_HERSHEY_PLAIN\n",
    "imagePaths = list(paths.list_images(r\"C:\\Users\\rcortesvazquez\\Documents\\Academy\\AI\\FP\\CapstoneProjectR\\data\\Traffic congestion Dataset\\obj\\sample_img\"))\n",
    "imagePaths\n",
    "\n",
    "for imagePath in imagePaths:\n",
    "    image = cv2.imread(imagePath)\n",
    "    \n",
    "    ClassIndex, confidence, bbox=model.detect(image, confThreshold=0.5)\n",
    "    for ClassInd, conf, boxes in zip(ClassIndex.flatten(), confidence.flatten(), bbox):\n",
    "        \n",
    "        cv2.rectangle(image, boxes, (255,0,0), 1)\n",
    "        cv2.putText(image, classLabels[ClassInd-1], (boxes[0]+10, boxes[1]+40), font, fontScale = font_scale, color=(0,255,0), thickness=3)\n",
    "    \n",
    "    print(ClassIndex)\n",
    "\n",
    "    cv2.imshow(\"Frame\", cv2.cvtColor(image, cv2.COLOR_BGR2RGB))\n",
    "    cv2.waitKey()\n",
    "    cv2.destroyAllWindows()"
   ]
  },
  {
   "cell_type": "markdown",
   "id": "a64f75cd",
   "metadata": {},
   "source": [
    "We can improve accuracy of our model both by increasing the training data and by using Open CV Cascade Classifier tools."
   ]
  },
  {
   "cell_type": "code",
   "execution_count": 17,
   "id": "4abd4411",
   "metadata": {},
   "outputs": [],
   "source": [
    "\n",
    "cascade_src = r\"C:\\Users\\rcortesvazquez\\Documents\\Academy\\AI\\FP\\CapstoneProjectR\\data\\Traffic congestion Dataset\\obj\\cars.xml\"\n",
    "\n",
    "imagePaths = list(paths.list_images(r\"C:\\Users\\rcortesvazquez\\Documents\\Academy\\AI\\FP\\CapstoneProjectR\\data\\Traffic congestion Dataset\\obj\\sample_img\"))\n",
    "imagePaths\n",
    "\n",
    "car_cascade = cv2.CascadeClassifier(cascade_src)\n",
    "\n",
    "for imagePath in imagePaths:\n",
    "    \n",
    "    image = cv2.imread(imagePath)\n",
    "    \n",
    "    gray = cv2.cvtColor(image, cv2.COLOR_BGR2GRAY)\n",
    "    \n",
    "    cars = car_cascade.detectMultiScale(gray, 1.1, 1)\n",
    "\n",
    "    for (x,y,w,h) in cars:\n",
    "        cv2.rectangle(image,(x,y),(x+w,y+h),(0,0,255),2)      \n",
    "    \n",
    "    cv2.imshow(\"Image\", image)\n",
    "    \n",
    "    cv2.waitKey()\n",
    "\n",
    "cv2.destroyAllWindows()"
   ]
  },
  {
   "cell_type": "markdown",
   "id": "c6a85a60",
   "metadata": {},
   "source": [
    "## Conclusions"
   ]
  },
  {
   "cell_type": "markdown",
   "id": "fd156249",
   "metadata": {},
   "source": [
    "In conclusion, it's not suggested there being a connection between car accidents and ADS systems being involved with faulty machinery and the most likely situation remaining the human factor, which according to the National Library of Medicine does play a key factor. Inexperience, substance abuse, distractions, poor eyesight, speeding or fatigue are some of the most relevant causes of car crashes."
   ]
  },
  {
   "cell_type": "markdown",
   "id": "604f4d6d",
   "metadata": {},
   "source": [
    "### Sources"
   ]
  },
  {
   "cell_type": "markdown",
   "id": "332a4b86",
   "metadata": {},
   "source": [
    "https://pubmed.ncbi.nlm.nih.gov/11297224/\n",
    "\n",
    "https://www.sfmta.com/projects/driving-automation-systems-advanced-driver-assistance-systems-adas-and-automated-driving#:~:text=%E2%80%9CDriving%20automation%E2%80%9D%20refers%20to%20both%20Advanced%20Driver%20Assistance,to%20operate%20a%20vehicle%20without%20a%20human%20driver.\n",
    "\n",
    "https://docs.opencv.org/2.4/doc/user_guide/ug_traincascade.html\n",
    "\n",
    "https://docs.opencv.org/2.4/modules/objdetect/doc/cascade_classification.html?highlight=car%20detection#void%20CascadeClassifier::detectMultiScale(const%20Mat&%20image,%20vector%3CRect%3E&%20objects,%20double%20scaleFactor,%20int%20minNeighbors,%20int%20flags,%20Size%20minSize,%20Size%20maxSize)\n",
    "\n"
   ]
  }
 ],
 "metadata": {
  "kernelspec": {
   "display_name": "Python 3 (ipykernel)",
   "language": "python",
   "name": "python3"
  },
  "language_info": {
   "codemirror_mode": {
    "name": "ipython",
    "version": 3
   },
   "file_extension": ".py",
   "mimetype": "text/x-python",
   "name": "python",
   "nbconvert_exporter": "python",
   "pygments_lexer": "ipython3",
   "version": "3.9.12"
  }
 },
 "nbformat": 4,
 "nbformat_minor": 5
}
